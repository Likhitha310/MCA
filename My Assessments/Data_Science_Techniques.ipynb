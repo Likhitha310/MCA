{
 "cells": [
  {
   "cell_type": "markdown",
   "id": "9f9ec4f7",
   "metadata": {},
   "source": [
    "## Data Generation, DataFrame Creation, and Scatterplot"
   ]
  },
  {
   "cell_type": "code",
   "execution_count": null,
   "id": "52e8fc0e",
   "metadata": {},
   "outputs": [],
   "source": [
    "import numpy as np\n",
    "import pandas as pd\n",
    "import matplotlib.pyplot as plt\n",
    "\n",
    "# Data Generation\n",
    "np.random.seed(0)  # for reproducibility\n",
    "x = np.random.uniform(0, 10, 100)\n",
    "y = 2.5 * x + np.random.normal(0, 5, 100)  # y is approximately 2.5 * x with some noise\n",
    "\n",
    "# Create a DataFrame\n",
    "data = pd.DataFrame({'X values': x, 'Y values': y})\n",
    "\n",
    "# Plot a Scatterplot\n",
    "plt.figure(figsize=(10, 6))\n",
    "plt.scatter(data['X values'], data['Y values'], alpha=0.7, edgecolors='w', linewidth=0.5)\n",
    "plt.xlabel('X values')\n",
    "plt.ylabel('Y values')\n",
    "plt.title('Scatterplot of X vs Y')\n",
    "plt.grid(True)\n",
    "plt.show()"
   ]
  }
 ],
 "metadata": {},
 "nbformat": 4,
 "nbformat_minor": 5
}
