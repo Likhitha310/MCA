{
 "cells": [
  {
   "cell_type": "markdown",
   "id": "a360288b",
   "metadata": {},
   "source": [
    "### Prompt 1: Write a Python program to find the nth Fibonacci number using recursion."
   ]
  },
  {
   "cell_type": "code",
   "execution_count": 1,
   "id": "0feab0b2",
   "metadata": {},
   "outputs": [
    {
     "name": "stdout",
     "output_type": "stream",
     "text": [
      "The 10th Fibonacci number (recursive) is: 34\n"
     ]
    }
   ],
   "source": [
    "def fibonacci_recursive(n):\n",
    "    if n <= 0:\n",
    "        return \"Invalid input, n must be a positive integer.\"\n",
    "    elif n == 1:\n",
    "        return 0\n",
    "    elif n == 2:\n",
    "        return 1\n",
    "    else:\n",
    "        return fibonacci_recursive(n-1) + fibonacci_recursive(n-2)\n",
    "\n",
    "# Example usage\n",
    "n = 10\n",
    "print(f\"The {n}th Fibonacci number (recursive) is: {fibonacci_recursive(n)}\")"
   ]
  },
  {
   "cell_type": "markdown",
   "id": "513851d5",
   "metadata": {},
   "source": [
    "### Prompt 2: Optimize the recursive Fibonacci program using memoization."
   ]
  },
  {
   "cell_type": "code",
   "execution_count": 2,
   "id": "ffca6277",
   "metadata": {},
   "outputs": [
    {
     "name": "stdout",
     "output_type": "stream",
     "text": [
      "The 10th Fibonacci number (memoization) is: 34\n"
     ]
    }
   ],
   "source": [
    "def fibonacci_memoization(n, memo={}):\n",
    "    if n <= 0:\n",
    "        return \"Invalid input, n must be a positive integer.\"\n",
    "    elif n in memo:\n",
    "        return memo[n]\n",
    "    elif n == 1:\n",
    "        memo[n] = 0\n",
    "    elif n == 2:\n",
    "        memo[n] = 1\n",
    "    else:\n",
    "        memo[n] = fibonacci_memoization(n-1, memo) + fibonacci_memoization(n-2, memo)\n",
    "    return memo[n]\n",
    "\n",
    "# Example usage\n",
    "n = 10\n",
    "print(f\"The {n}th Fibonacci number (memoization) is: {fibonacci_memoization(n)}\")"
   ]
  },
  {
   "cell_type": "markdown",
   "id": "86e36a55",
   "metadata": {},
   "source": [
    "### Prompt 3: Write a Python program to find the nth Fibonacci number using an iterative approach."
   ]
  },
  {
   "cell_type": "code",
   "execution_count": 3,
   "id": "5d7820b3",
   "metadata": {},
   "outputs": [
    {
     "name": "stdout",
     "output_type": "stream",
     "text": [
      "The 10th Fibonacci number (iterative) is: 34\n"
     ]
    }
   ],
   "source": [
    "def fibonacci_iterative(n):\n",
    "    if n <= 0:\n",
    "        return \"Invalid input, n must be a positive integer.\"\n",
    "    elif n == 1:\n",
    "        return 0\n",
    "    elif n == 2:\n",
    "        return 1\n",
    "\n",
    "    a, b = 0, 1\n",
    "    for _ in range(2, n):\n",
    "        a, b = b, a + b\n",
    "    return b\n",
    "\n",
    "# Example usage\n",
    "n = 10\n",
    "print(f\"The {n}th Fibonacci number (iterative) is: {fibonacci_iterative(n)}\")"
   ]
  }
 ],
 "metadata": {
  "kernelspec": {
   "display_name": "Python 3 (ipykernel)",
   "language": "python",
   "name": "python3"
  },
  "language_info": {
   "codemirror_mode": {
    "name": "ipython",
    "version": 3
   },
   "file_extension": ".py",
   "mimetype": "text/x-python",
   "name": "python",
   "nbconvert_exporter": "python",
   "pygments_lexer": "ipython3",
   "version": "3.11.4"
  }
 },
 "nbformat": 4,
 "nbformat_minor": 5
}
